{
 "cells": [
  {
   "attachments": {},
   "cell_type": "markdown",
   "metadata": {},
   "source": [
    "# Define all constants corresponding to game data"
   ]
  },
  {
   "attachments": {},
   "cell_type": "markdown",
   "metadata": {},
   "source": [
    "Define resources"
   ]
  },
  {
   "cell_type": "code",
   "execution_count": 16,
   "metadata": {},
   "outputs": [],
   "source": [
    "RESOURCES = [\n",
    "    \"VP\", # Victory points\n",
    "    \"Q\", # Quest cards (as rewards to be obtained)\n",
    "    # \"I\", # Intrigue cards (as rewards to be obtained) # TODO (later versions): Uncomment this\n",
    "    \"Purple\", # Wizard item, i.e. purple cubes\n",
    "    \"White\", # Cleric item, i.e. white cubes\n",
    "    \"Black\", # Rogue item, i.e. black cubes\n",
    "    \"Orange\", # Fighter item, i.e. orange cubes\n",
    "    \"Gold\", # Gold\n",
    "]"
   ]
  },
  {
   "attachments": {},
   "cell_type": "markdown",
   "metadata": {},
   "source": [
    "Define all quests in the game"
   ]
  },
  {
   "cell_type": "code",
   "execution_count": 17,
   "metadata": {},
   "outputs": [],
   "source": [
    "QUEST_TYPES = [\"Arcana\", \"Piety\", \"Skullduggery\", \"Warfare\", \"Commerce\"]"
   ]
  },
  {
   "cell_type": "code",
   "execution_count": 18,
   "metadata": {},
   "outputs": [],
   "source": [
    "from collections import namedtuple\n",
    "Quest = namedtuple(\"Quest\", \"name type requirements rewards\")\n",
    "\n",
    "QUESTS = [\n",
    "    Quest(\"Simple Warfare\", \"Warfare\", {\"Orange\": 2}, {\"VP\": 4}),\n",
    "    Quest(\"Simple Skullduggery\", \"Skullduggery\", {\"Black\": 2}, {\"VP\": 4}),\n",
    "    Quest(\"Simple Piety\", \"Piety\", {\"White\": 1}, {\"VP\": 4}),\n",
    "    Quest(\"Simple Arcana\", \"Arcana\", {\"Purple\": 1}, {\"VP\": 4}),\n",
    "    Quest(\"Simple Commerce\", \"Commerce\", {\"Gold\": 4}, {\"VP\": 4}),\n",
    "]"
   ]
  },
  {
   "attachments": {},
   "cell_type": "markdown",
   "metadata": {},
   "source": [
    "Verify correctness of quest attributes"
   ]
  },
  {
   "cell_type": "code",
   "execution_count": 19,
   "metadata": {},
   "outputs": [],
   "source": [
    "for quest in QUESTS:\n",
    "    for rewardKey in quest.rewards:\n",
    "        assert rewardKey in RESOURCES, quest\n",
    "    for requirementKey in quest.requirements:\n",
    "        assert requirementKey in RESOURCES, quest\n",
    "    assert quest.type in QUEST_TYPES"
   ]
  },
  {
   "attachments": {},
   "cell_type": "markdown",
   "metadata": {},
   "source": [
    "Demonstrate how to access quest data"
   ]
  },
  {
   "cell_type": "code",
   "execution_count": 20,
   "metadata": {},
   "outputs": [
    {
     "name": "stdout",
     "output_type": "stream",
     "text": [
      "Quest(name='Simple Warfare', type='Warfare', requirements={'Orange': 2}, rewards={'VP': 4})\n",
      "Warfare\n",
      "{'VP': 4}\n",
      "4\n"
     ]
    }
   ],
   "source": [
    "orangeQuest = QUESTS[0]\n",
    "print(orangeQuest)\n",
    "print(orangeQuest.type)\n",
    "print(orangeQuest.rewards)\n",
    "print(orangeQuest.rewards[\"VP\"])"
   ]
  },
  {
   "attachments": {},
   "cell_type": "markdown",
   "metadata": {},
   "source": [
    "Demonstrate that quests are immutable"
   ]
  },
  {
   "cell_type": "code",
   "execution_count": 21,
   "metadata": {},
   "outputs": [
    {
     "ename": "AttributeError",
     "evalue": "can't set attribute",
     "output_type": "error",
     "traceback": [
      "\u001b[0;31m---------------------------------------------------------------------------\u001b[0m",
      "\u001b[0;31mAttributeError\u001b[0m                            Traceback (most recent call last)",
      "Cell \u001b[0;32mIn[21], line 1\u001b[0m\n\u001b[0;32m----> 1\u001b[0m orangeQuest\u001b[39m.\u001b[39;49mrewards \u001b[39m=\u001b[39m {\u001b[39m\"\u001b[39m\u001b[39mblack\u001b[39m\u001b[39m\"\u001b[39m: \u001b[39m2\u001b[39m} \u001b[39m# Results in AttributeError\u001b[39;00m\n",
      "\u001b[0;31mAttributeError\u001b[0m: can't set attribute"
     ]
    }
   ],
   "source": [
    "orangeQuest.rewards = {\"black\": 2} # Results in AttributeError"
   ]
  },
  {
   "attachments": {},
   "cell_type": "markdown",
   "metadata": {},
   "source": [
    "Define number of agents per player as a function of number of players"
   ]
  },
  {
   "cell_type": "code",
   "execution_count": 22,
   "metadata": {},
   "outputs": [],
   "source": [
    "def agentsPerPlayer(numPlayers: int):\n",
    "    '''\n",
    "    Return the number of agents per player\n",
    "    as a function of the number of players in \n",
    "    the game.\n",
    "    \n",
    "    Args:\n",
    "        numPlayers: the total number of players in the game.\n",
    "        \n",
    "    Returns:\n",
    "        the number of agents per player.\n",
    "    '''\n",
    "    if numPlayers == 2: return 4\n",
    "    if numPlayers == 3: return 3\n",
    "    if numPlayers == 4: return 2\n",
    "    if numPlayers == 5: return 2 \n",
    "    else: \n",
    "        raise ValueError(\"Number of players must be an integer between 2 and 5, inclusive.\")"
   ]
  },
  {
   "attachments": {},
   "cell_type": "markdown",
   "metadata": {},
   "source": [
    "Define the Lord cards (i.e. secret identities)"
   ]
  },
  {
   "cell_type": "code",
   "execution_count": 23,
   "metadata": {},
   "outputs": [],
   "source": [
    "# TODO (later version): uncomment below\n",
    "LORD_CARDS = []\n",
    "for i,type1 in enumerate(QUEST_TYPES):\n",
    "    for type2 in QUEST_TYPES[i+1:]:\n",
    "        LORD_CARDS.append((type1, type2))\n",
    "# LORD_CARDS.append(\"Buildings\")"
   ]
  },
  {
   "attachments": {},
   "cell_type": "markdown",
   "metadata": {},
   "source": [
    "# Create classes for running the game"
   ]
  },
  {
   "cell_type": "code",
   "execution_count": 24,
   "metadata": {},
   "outputs": [],
   "source": [
    "from random import shuffle"
   ]
  },
  {
   "attachments": {},
   "cell_type": "markdown",
   "metadata": {},
   "source": [
    "## Player class"
   ]
  },
  {
   "cell_type": "code",
   "execution_count": 54,
   "metadata": {},
   "outputs": [],
   "source": [
    "class Player():\n",
    "    def __init__(self, name: str, numAgents: int, \n",
    "                 lordCard: tuple[str]) -> None:\n",
    "        '''\n",
    "        Initialize the player's name, resources, agents, and VPs.\n",
    "        \n",
    "        Args:\n",
    "            name: the player's name\n",
    "            numAgents: the number of starting agents for the player\n",
    "            lord: the lord card (i.e. secret identity) given to the player \n",
    "        '''\n",
    "        self.name = name \n",
    "        self.lordCard = lordCard\n",
    "\n",
    "        self.resources = {\n",
    "            \"Purple\": 0,\n",
    "            \"White\": 0,\n",
    "            \"Black\": 0,\n",
    "            \"Orange\": 0,\n",
    "            \"Gold\": 0,\n",
    "            \"VP\": 0\n",
    "        }\n",
    "        for resource in self.resources:\n",
    "            assert resource in RESOURCES\n",
    "\n",
    "        self.activeQuests = []\n",
    "        self.completedQuests = []\n",
    "        # self.plotQuests = [] # Completed plot quests\n",
    "        # self.intrigues = []\n",
    "        self.agents = numAgents\n",
    "        self.maxAgents = numAgents\n",
    "\n",
    "        # The score used for training RL agents\n",
    "        # should NOT be VP alone, but \n",
    "        # score = VP + #(agents) + #(gold)//2\n",
    "        # (maybe include quests/intrigue too?)\n",
    "        # (if we are really trying to teach \n",
    "        # strategy, maybe #(white,purple) \n",
    "        # + #(black,orange)/2 + #(gold)/4 \n",
    "        # to correspond to turn-value instead \n",
    "        # of VP-value at endgame? )\n",
    "\n",
    "    def getQuest(self, quest: Quest):\n",
    "        '''\n",
    "        Receive a quest.\n",
    "\n",
    "        Args: \n",
    "            quest: the quest to receive.\n",
    "        '''\n",
    "        self.activeQuests.append(quest)\n",
    "\n",
    "    # TODO (Later version): uncomment this\n",
    "    # def getIntrigue(self, intrigue: Intrigue):\n",
    "        # '''\n",
    "        # Receive an intrigue card.\n",
    "\n",
    "        # Args: \n",
    "        #     intrigue: the intrigue card to receive.\n",
    "        # '''\n",
    "    #     self.intrigues.append(intrigue)\n",
    "\n",
    "    def getResource(self, resource: str, number: int):\n",
    "        '''\n",
    "        Receive some number of resources of the same type.\n",
    "\n",
    "        Args: \n",
    "            resource: the type of resource.\n",
    "            number: the number of that resource type received.\n",
    "        '''\n",
    "        if resource not in RESOURCES:\n",
    "            raise ValueError(\"Invalid resource type.\")\n",
    "        if resource in [\"Q\", \"I\"]:\n",
    "            raise ValueError(\"Cannot receive quests or intrigue cards with this function. \\\n",
    "                             Use 'receiveQuest' or 'receive Intrigue', respectively.\")\n",
    "        if number <= 0:\n",
    "            raise ValueError(\"Cannot receive nonnegative resource count.\")\n",
    "        \n",
    "        self.resources[resource] += number\n",
    "\n",
    "    def getAgent(self):\n",
    "        '''Receive an additional agent (for future use).'''\n",
    "        self.maxAgents += 1\n",
    "        self.agents += 1\n",
    "\n",
    "    def returnAgents(self):\n",
    "        '''Return all of this player's agents.'''\n",
    "        self.agents = self.maxAgents\n",
    "        \n",
    "    def completeQuest(self, quest: Quest):\n",
    "        # Check if the quest can be completed\n",
    "        validCompletion = True\n",
    "        for resource in quest.requirements:\n",
    "            if quest.requirements[resource] > self.resources[resource]:\n",
    "                validCompletion = False\n",
    "                \n",
    "        if validCompletion:\n",
    "            for resource,number in quest.requirements.items():\n",
    "                self.resources[resource] -= number\n",
    "            for resource,number in quest.rewards.items():\n",
    "                if resource not in RESOURCES:\n",
    "                    raise ValueError(\"Invalid resource type.\")\n",
    "                elif resource == \"Q\":\n",
    "                    # TODO: Implement this. somehow access gamestate \n",
    "                    raise Exception(\"Not yet implemented.\")\n",
    "                elif resource == \"I\":\n",
    "                    # TODO (later version): Implement this\n",
    "                    raise Exception(\"This is impossible! Intrigue cards do not exist yet!\")\n",
    "                else:\n",
    "                    self.resources[resource] += number\n",
    "        else:\n",
    "            raise ValueError(\"Do not have enough resources to complete this quest.\")\n",
    "        \n",
    "        # Check that all resource counts are still nonnegative\n",
    "        for resourceNumber in self.resources.values():\n",
    "            assert resourceNumber >= 0\n",
    "        "
   ]
  },
  {
   "attachments": {},
   "cell_type": "markdown",
   "metadata": {},
   "source": [
    "## Game state class"
   ]
  },
  {
   "cell_type": "code",
   "execution_count": 55,
   "metadata": {},
   "outputs": [],
   "source": [
    "class GameState():\n",
    "    def __init__(self) -> None:\n",
    "        '''\n",
    "        Initialize the game state. Creates the quest stack\n",
    "        and initializes all buildings states.\n",
    "        '''\n",
    "        # Create the quest stack\n",
    "        self.questStack = QUESTS.copy()\n",
    "        shuffle(self.questStack)\n",
    "\n",
    "        # Initialize all building states\n",
    "        # TODO (in later versions): have all 3 Cliffwatch Inn spots instead of just 1\n",
    "        # TODO (in later versions): uncomment the commented ones below\n",
    "        self.purpleOccupied = False \n",
    "        self.buildingStates = { # True if the building is occupied\n",
    "            \"Purple\": False, # Blackstaff Tower (for Wizards)\n",
    "            \"Orange\": False, # Field of Triumph (for Fighters)\n",
    "            \"White\": False, # The Plinth (for Clerics)\n",
    "            \"Black\": False, # The Grinning Lion Tavern (for Rogues)\n",
    "            \"Gold\": False, # Aurora's Realms Shop (for Gold)\n",
    "            \"Quest\": False, # Cliffwatch Inn (for Quests)\n",
    "            # \"Castle\": False # Castle Waterdeep (for Castle + Intrigue)\n",
    "            # \"Builder\": False # Builder's Hall (for buying Buildings)\n",
    "            # \"Waterdeep1\": False # Waterdeep Harbor, first slot (for playing Intrigue)\n",
    "            # \"Waterdeep2\": False # Waterdeep Harbor, second slot (for playing Intrigue)\n",
    "            # \"Waterdeep3\": False # Waterdeep Harbor, third slot (for playing Intrigue)\n",
    "        }\n",
    "\n",
    "    def clearBuildings(self):\n",
    "        '''Clears all buildings to their unoccupied states.'''\n",
    "        for building in self.buildingStates:\n",
    "            self.buildingStates[building] = False\n",
    "    \n",
    "    def drawQuest(self) -> Quest:\n",
    "        '''\n",
    "        Draw the top quest from the quest stack,\n",
    "        removing it from the stack in the process.\n",
    "        \n",
    "        Returns: \n",
    "            The top quest from the quest stack.\n",
    "        '''\n",
    "        return self.questStack.pop()\n",
    "    \n",
    "    def printQuestStack(self) -> None:\n",
    "        '''Debug function for printing the quest stack.'''\n",
    "        print(\"Quest stack (top first):\")\n",
    "        questStackCopy = self.questStack.copy()\n",
    "        for i in range(len(self.questStack)):\n",
    "            print(i+1, questStackCopy.pop())\n",
    "\n",
    "    def displayGameState(self) -> None:\n",
    "        '''Display the state of the game.'''\n",
    "        # TODO: Implement this to display the state of the game\n",
    "        # Will start textually, should be graphically later\n",
    "        pass"
   ]
  },
  {
   "attachments": {},
   "cell_type": "markdown",
   "metadata": {},
   "source": [
    "Test the quest stack"
   ]
  },
  {
   "cell_type": "code",
   "execution_count": 56,
   "metadata": {},
   "outputs": [
    {
     "name": "stdout",
     "output_type": "stream",
     "text": [
      "Drew quest: Quest(name='Simple Warfare', type='Warfare', requirements={'Orange': 2}, rewards={'VP': 4})\n",
      "Quest stack (top first):\n",
      "1 Quest(name='Simple Piety', type='Piety', requirements={'White': 1}, rewards={'VP': 4})\n",
      "2 Quest(name='Simple Skullduggery', type='Skullduggery', requirements={'Black': 2}, rewards={'VP': 4})\n",
      "3 Quest(name='Simple Commerce', type='Commerce', requirements={'Gold': 4}, rewards={'VP': 4})\n",
      "4 Quest(name='Simple Arcana', type='Arcana', requirements={'Purple': 1}, rewards={'VP': 4})\n",
      "\n",
      "Drew quest: Quest(name='Simple Piety', type='Piety', requirements={'White': 1}, rewards={'VP': 4})\n",
      "Quest stack (top first):\n",
      "1 Quest(name='Simple Skullduggery', type='Skullduggery', requirements={'Black': 2}, rewards={'VP': 4})\n",
      "2 Quest(name='Simple Commerce', type='Commerce', requirements={'Gold': 4}, rewards={'VP': 4})\n",
      "3 Quest(name='Simple Arcana', type='Arcana', requirements={'Purple': 1}, rewards={'VP': 4})\n",
      "\n"
     ]
    }
   ],
   "source": [
    "gameState = GameState()\n",
    "\n",
    "for i in range(2):\n",
    "    print(\"Drew quest:\", gameState.drawQuest())\n",
    "    gameState.printQuestStack()\n",
    "    print()"
   ]
  },
  {
   "attachments": {},
   "cell_type": "markdown",
   "metadata": {},
   "source": [
    "## Game interface"
   ]
  },
  {
   "attachments": {},
   "cell_type": "markdown",
   "metadata": {},
   "source": [
    "Class to control the flow of the game, focused on turn progression and move \n",
    "options. Broadly, this class handles anything involving the game state and\n",
    "the players, while the previous classes handle either only the game state\n",
    "or only the players.\n",
    "\n",
    "**Any interactions with player or game states should always involve methods of those classes.**"
   ]
  },
  {
   "cell_type": "code",
   "execution_count": 57,
   "metadata": {},
   "outputs": [],
   "source": [
    "class GameControl():\n",
    "    '''\n",
    "    Class to control the flow of the game, \n",
    "    focused on turn progression and move \n",
    "    options. \n",
    "    '''\n",
    "    def __init__(self, numPlayers: int = 3, numRounds: int = 8, \n",
    "                 playerNames = None):\n",
    "        '''\n",
    "        Initialize the game state and players.\n",
    "\n",
    "        Args: \n",
    "            numPlayers: the number of players in the game\n",
    "            numRounds: the number of rounds in the game\n",
    "            playerNames (optional): the names for each player\n",
    "        '''\n",
    "        # Initialize the remaining number of rounds\n",
    "        self.roundsLeft = numRounds\n",
    "\n",
    "        # Initialize the GameState\n",
    "        self.gameState = GameState()\n",
    "\n",
    "        # Check that we have a valid number of players\n",
    "        assert numPlayers >= 2 and numPlayers <= 5\n",
    "        self.numPlayers = numPlayers\n",
    "\n",
    "        # Set default player names\n",
    "        self.playerNames = playerNames\n",
    "        if playerNames == None:\n",
    "            self.playerNames = [\n",
    "                \"PlayerOne\", \"PlayerTwo\", \n",
    "                \"PlayerThree\", \"PlayerFour\",\n",
    "                \"PlayerFive\"\n",
    "            ][:numPlayers]\n",
    "        \n",
    "        # Shuffle the lord cards\n",
    "        shuffled_lord_cards = LORD_CARDS.copy()\n",
    "        print(shuffled_lord_cards[:5])\n",
    "        shuffle(shuffled_lord_cards)\n",
    "        print(shuffled_lord_cards[:5])\n",
    "\n",
    "        # Initialize the players\n",
    "        self.players = []\n",
    "        for i in range(numPlayers):\n",
    "            print(shuffled_lord_cards[i])\n",
    "            self.players.append(Player(self.playerNames[i], agentsPerPlayer(numPlayers),\n",
    "                                       shuffled_lord_cards[i]))\n",
    "\n",
    "        # Deal quest cards to players\n",
    "        for _ in range(2):\n",
    "            for player in self.players:\n",
    "                player.getQuest(self.gameState.drawQuest())\n",
    "\n",
    "        # TODO (later version): Deal intrigue cards to players\n",
    "\n",
    "        # Define the turn order \n",
    "        shuffled_indices = list(range(1,numPlayers+1))\n",
    "        shuffle(shuffled_indices)\n",
    "        self.turnOrder = {shuffled_indices[i]: player for i,player in enumerate(self.players)}\n",
    "\n",
    "        # Set the current place in the turn order (1,...,numPlayers)\n",
    "        self.currentTurn = 1\n",
    "\n",
    "        # Finally, start a new round (at this stage, just \n",
    "        # decrements roundsLeft and places VPs on\n",
    "        # buildings at builder's hall)\n",
    "        self.newRound()\n",
    "\n",
    "    def newRound(self):\n",
    "        '''Reset the board at the beginning of each round.'''\n",
    "        self.roundsLeft -= 1\n",
    "        # TODO (later version): put VPs on buildings at bulider's hall\n",
    "\n",
    "        # Reset all buildings\n",
    "        self.gameState.clearBuildings()\n",
    "\n",
    "        # TODO (later version): put new resources on buildings that need them\n",
    "\n",
    "        # Get new agent at fifth round\n",
    "        if self.roundsLeft == 4:\n",
    "            for player in self.players:\n",
    "                player.getAgent()\n",
    "\n",
    "        # Return all agents\n",
    "        for player in self.players:\n",
    "            player.returnAgents()\n",
    "\n",
    "    def takeTurn(self):\n",
    "        '''Take a single turn in the turn order.'''\n",
    "        # TODO: Implement \n",
    "        currentPlayer = self.turnOrder[self.currentTurn]\n",
    "        possibleMoves = [] # Fill this \n",
    "        move = currentPlayer.selectMove(possibleMoves) # Implement this\n",
    "        # Execute this move. Maybe have a different function for \n",
    "        # selecting a building to play at vs other sub-selections\n",
    "        # such as a quest to complete or an intrigue card to play?\n",
    "        self.turnOrder += 1\n",
    "\n",
    "    def runGame(self):\n",
    "        '''Umbrella function to run the game.'''\n",
    "        while self.roundsLeft > 0:\n",
    "            while self.turnOrder <= self.numPlayers:\n",
    "                self.takeTurn()\n",
    "            self.newRound()\n",
    "        "
   ]
  },
  {
   "cell_type": "code",
   "execution_count": 68,
   "metadata": {},
   "outputs": [
    {
     "name": "stdout",
     "output_type": "stream",
     "text": [
      "[('Arcana', 'Piety'), ('Arcana', 'Skullduggery'), ('Arcana', 'Warfare'), ('Arcana', 'Commerce'), ('Piety', 'Skullduggery')]\n",
      "[('Arcana', 'Skullduggery'), ('Piety', 'Warfare'), ('Skullduggery', 'Commerce'), ('Piety', 'Commerce'), ('Skullduggery', 'Warfare')]\n",
      "('Arcana', 'Skullduggery')\n",
      "('Piety', 'Warfare')\n",
      "['PlayerOne', 'PlayerTwo']\n",
      "1 PlayerOne ('Arcana', 'Skullduggery')\n",
      "2 PlayerTwo ('Piety', 'Warfare')\n"
     ]
    }
   ],
   "source": [
    "gameControl = GameControl(numPlayers=2)\n",
    "print(gameControl.playerNames)\n",
    "for i,player in gameControl.turnOrder.items():\n",
    "    print(i,player.name, player.lordCard)"
   ]
  },
  {
   "attachments": {},
   "cell_type": "markdown",
   "metadata": {},
   "source": [
    "# RL Model "
   ]
  },
  {
   "cell_type": "code",
   "execution_count": null,
   "metadata": {},
   "outputs": [],
   "source": [
    "def score(resources):\n",
    "    '''Compute an RL agent's score.'''\n",
    "    # See comment in Player.__init__ about score\n",
    "    # Maybe include quests/intrigues?\n",
    "    score = 0.\n",
    "    for resource,number in resources.items():\n",
    "        if resource in [\"Purple\", \"White\", \"VP\"]:\n",
    "            score += number \n",
    "        elif resource in [\"Orange\", \"Black\"]:\n",
    "            score += number / 2.\n",
    "        elif resource == \"Gold\":\n",
    "            score += number / 4.\n",
    "        else:\n",
    "            raise ValueError(\"Invalid resource type.\")\n",
    "    return score "
   ]
  },
  {
   "cell_type": "code",
   "execution_count": null,
   "metadata": {},
   "outputs": [],
   "source": []
  }
 ],
 "metadata": {
  "kernelspec": {
   "display_name": "np-scp",
   "language": "python",
   "name": "python3"
  },
  "language_info": {
   "codemirror_mode": {
    "name": "ipython",
    "version": 3
   },
   "file_extension": ".py",
   "mimetype": "text/x-python",
   "name": "python",
   "nbconvert_exporter": "python",
   "pygments_lexer": "ipython3",
   "version": "3.11.2"
  },
  "orig_nbformat": 4
 },
 "nbformat": 4,
 "nbformat_minor": 2
}
