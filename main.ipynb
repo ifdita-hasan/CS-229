{
 "cells": [
  {
   "attachments": {},
   "cell_type": "markdown",
   "metadata": {},
   "source": [
    "# Define all constants corresponding to game data"
   ]
  },
  {
   "attachments": {},
   "cell_type": "markdown",
   "metadata": {},
   "source": [
    "Define resources"
   ]
  },
  {
   "cell_type": "code",
   "execution_count": 80,
   "metadata": {},
   "outputs": [],
   "source": [
    "RESOURCES = [\n",
    "    \"VP\", # Victory points\n",
    "    \"Q\", # Quest cards (as rewards to be obtained)\n",
    "    # \"I\", # Intrigue cards (as rewards to be obtained) # TODO (later versions): Uncomment this\n",
    "    \"Purple\", # Wizard item, i.e. purple cubes\n",
    "    \"White\", # Cleric item, i.e. white cubes\n",
    "    \"Black\", # Rogue item, i.e. black cubes\n",
    "    \"Orange\", # Fighter item, i.e. orange cubes\n",
    "    \"Gold\", # Gold\n",
    "]"
   ]
  },
  {
   "attachments": {},
   "cell_type": "markdown",
   "metadata": {},
   "source": [
    "Define all quests in the game"
   ]
  },
  {
   "cell_type": "code",
   "execution_count": 56,
   "metadata": {},
   "outputs": [],
   "source": [
    "QUEST_TYPES = [\"Arcana\", \"Piety\", \"Skullduggery\", \"Warfare\", \"Commerce\"]"
   ]
  },
  {
   "cell_type": "code",
   "execution_count": 57,
   "metadata": {},
   "outputs": [],
   "source": [
    "from collections import namedtuple\n",
    "Quest = namedtuple(\"Quest\", \"name type requirements rewards\")\n",
    "\n",
    "QUESTS = [\n",
    "    Quest(\"Simple Warfare\", \"Warfare\", {\"Orange\": 2}, {\"VP\": 4}),\n",
    "    Quest(\"Simple Skullduggery\", \"Skullduggery\", {\"Black\": 2}, {\"VP\": 4}),\n",
    "    Quest(\"Simple Piety\", \"Piety\", {\"White\": 1}, {\"VP\": 4}),\n",
    "    Quest(\"Simple Arcana\", \"Arcana\", {\"Purple\": 1}, {\"VP\": 4}),\n",
    "    Quest(\"Simple Commerce\", \"Commerce\", {\"Gold\": 4}, {\"VP\": 4}),\n",
    "]"
   ]
  },
  {
   "attachments": {},
   "cell_type": "markdown",
   "metadata": {},
   "source": [
    "Verify correctness of quest attributes"
   ]
  },
  {
   "cell_type": "code",
   "execution_count": 58,
   "metadata": {},
   "outputs": [],
   "source": [
    "for quest in QUESTS:\n",
    "    for rewardKey in quest.rewards:\n",
    "        assert rewardKey in RESOURCES, quest\n",
    "    for requirementKey in quest.requirements:\n",
    "        assert requirementKey in RESOURCES, quest\n",
    "    assert quest.type in QUEST_TYPES"
   ]
  },
  {
   "attachments": {},
   "cell_type": "markdown",
   "metadata": {},
   "source": [
    "Demonstrate how to access quest data"
   ]
  },
  {
   "cell_type": "code",
   "execution_count": 59,
   "metadata": {},
   "outputs": [
    {
     "name": "stdout",
     "output_type": "stream",
     "text": [
      "Quest(name='Simple Warfare', type='Warfare', requirements={'Orange': 2}, rewards={'VP': 4})\n",
      "Warfare\n",
      "{'VP': 4}\n",
      "4\n"
     ]
    }
   ],
   "source": [
    "orangeQuest = QUESTS[0]\n",
    "print(orangeQuest)\n",
    "print(orangeQuest.type)\n",
    "print(orangeQuest.rewards)\n",
    "print(orangeQuest.rewards[\"VP\"])"
   ]
  },
  {
   "attachments": {},
   "cell_type": "markdown",
   "metadata": {},
   "source": [
    "Demonstrate that quests are immutable"
   ]
  },
  {
   "cell_type": "code",
   "execution_count": 60,
   "metadata": {},
   "outputs": [
    {
     "ename": "AttributeError",
     "evalue": "can't set attribute",
     "output_type": "error",
     "traceback": [
      "\u001b[0;31m---------------------------------------------------------------------------\u001b[0m",
      "\u001b[0;31mAttributeError\u001b[0m                            Traceback (most recent call last)",
      "Cell \u001b[0;32mIn[60], line 1\u001b[0m\n\u001b[0;32m----> 1\u001b[0m orangeQuest\u001b[39m.\u001b[39;49mrewards \u001b[39m=\u001b[39m {\u001b[39m\"\u001b[39m\u001b[39mblack\u001b[39m\u001b[39m\"\u001b[39m: \u001b[39m2\u001b[39m} \u001b[39m# Results in AttributeError\u001b[39;00m\n",
      "\u001b[0;31mAttributeError\u001b[0m: can't set attribute"
     ]
    }
   ],
   "source": [
    "orangeQuest.rewards = {\"black\": 2} # Results in AttributeError"
   ]
  },
  {
   "attachments": {},
   "cell_type": "markdown",
   "metadata": {},
   "source": [
    "Define number of agents per player as a function of number of players"
   ]
  },
  {
   "cell_type": "code",
   "execution_count": 81,
   "metadata": {},
   "outputs": [],
   "source": [
    "def agentsPerPlayer(numPlayers: int):\n",
    "    if numPlayers == 2: return 4\n",
    "    if numPlayers == 3: return 3\n",
    "    if numPlayers == 4: return 2\n",
    "    if numPlayers == 5: return 2 \n",
    "    else: \n",
    "        raise ValueError(\"Number of players must be an integer between 2 and 5, inclusive.\")"
   ]
  },
  {
   "attachments": {},
   "cell_type": "markdown",
   "metadata": {},
   "source": [
    "# Create classes for the players and the game state"
   ]
  },
  {
   "cell_type": "code",
   "execution_count": 28,
   "metadata": {},
   "outputs": [],
   "source": [
    "import random "
   ]
  },
  {
   "cell_type": "code",
   "execution_count": 82,
   "metadata": {},
   "outputs": [],
   "source": [
    "class Player():\n",
    "    def __init__(self, name: str, numAgents: int) -> None:\n",
    "        '''Initialize the player's name, resources, agents, and VPs.'''\n",
    "        self.name = name \n",
    "        self.resources = {\n",
    "            \"Purple\": 0,\n",
    "            \"White\": 0,\n",
    "            \"Black\": 0,\n",
    "            \"Orange\": 0,\n",
    "            \"Gold\": 0\n",
    "        }\n",
    "        for resource in self.resources:\n",
    "            assert resource in RESOURCES\n",
    "\n",
    "        self.activeQuests = []\n",
    "        self.completedQuests = []\n",
    "        # self.plotQuests = [] # Completed plot quests\n",
    "        # self.intrigues = []\n",
    "        self.VP = 0\n",
    "        self.agents = numAgents\n",
    "        self.maxAgents = numAgents\n",
    "\n",
    "    def receiveQuest(self, quest: Quest):\n",
    "        '''\n",
    "        Receive a quest.\n",
    "\n",
    "        Args: \n",
    "            quest: the quest to receive.\n",
    "        '''\n",
    "        self.activeQuests.append(quest)\n",
    "\n",
    "    # TODO (Later version): uncomment this\n",
    "    # def receiveIntrigue(self, intrigue: Intrigue):\n",
    "        # '''\n",
    "        # Receive an intrigue card.\n",
    "\n",
    "        # Args: \n",
    "        #     intrigue: the intrigue card to receive.\n",
    "        # '''\n",
    "    #     self.intrigues.append(intrigue)\n",
    "\n",
    "    def receiveResource(self, resource: str, number: int):\n",
    "        '''\n",
    "        Receive some number of resources of the same type.\n",
    "\n",
    "        Args: \n",
    "            resource: the type of resource.\n",
    "            number: the number of that resource type received.\n",
    "        '''\n",
    "        if resource not in RESOURCES:\n",
    "            raise ValueError(\"Invalid resource type.\")\n",
    "        if resource in [\"Q\", \"I\"]:\n",
    "            raise ValueError(\"Cannot receive quests or intrigue cards with this function. \\\n",
    "                             Use 'receiveQuest' or 'receive Intrigue', respectively.\")\n",
    "        if number <= 0:\n",
    "            raise ValueError(\"Cannot receive nonnegative resource count.\")\n",
    "        \n",
    "        self.resources[resource] += number\n",
    "        \n",
    "    # TODO: This really should be in GameState\n",
    "    # def completeQuest(self, quest: Quest):\n",
    "    #     # Check if the quest can be completed\n",
    "    #     validCompletion = True\n",
    "    #     for resource in quest.requirements:\n",
    "    #         if quest.requirements[resource] > self.resources[resource]:\n",
    "    #             validCompletion = False\n",
    "                \n",
    "    #     if validCompletion:\n",
    "    #         # TODO: Finish this\n",
    "    #         for resource in quest.requirements:\n",
    "    #             self.resources[resource] -= quest.requirements[resource]\n",
    "    #             self.\n",
    "    #     else:\n",
    "    #         raise ValueError(\"Do not have enough resources to complete this quest.\")\n",
    "        \n",
    "    #     # Check that all resource counts are still nonnegative\n",
    "    #     for resourceNumber in self.resources.values():\n",
    "    #         assert resourceNumber >= 0\n",
    "        "
   ]
  },
  {
   "cell_type": "code",
   "execution_count": 85,
   "metadata": {},
   "outputs": [],
   "source": [
    "class GameState():\n",
    "    def __init__(self, numPlayers: int = 3, numRounds: int = 8, \n",
    "                 playerNames = None) -> None:\n",
    "        '''\n",
    "        Initialize the game state. Creates the quest stack,\n",
    "        initializes all buildings states, ... (MORE TODO HERE)\n",
    "\n",
    "        Args: \n",
    "            numPlayers: the number of players in the game\n",
    "            numRounds: the number of rounds in the game\n",
    "            playerNames (optional): the names for each player\n",
    "        '''\n",
    "        # Initialize the remaining number of rounds\n",
    "        self.roundsLeft = numRounds\n",
    "\n",
    "        # Check that we have a valid number of players\n",
    "        assert numPlayers >= 2 and numPlayers <= 5\n",
    "\n",
    "        # Initialize the players\n",
    "        self.playerNames = playerNames\n",
    "        if playerNames == None:\n",
    "            self.playerNames = [\n",
    "                \"PlayerOne\", \"PlayerTwo\", \n",
    "                \"PlayerThree\", \"PlayerFour\",\n",
    "                \"PlayerFive\"\n",
    "            ][:numPlayers]\n",
    "        \n",
    "        self.players = [Player(self.playerNames[i], agentsPerPlayer(numPlayers)) for i in range(numPlayers)]\n",
    "            \n",
    "        # Create the quest stack\n",
    "        self.questStack = QUESTS.copy()\n",
    "        random.shuffle(self.questStack)\n",
    "\n",
    "        # Initialize all building states\n",
    "        # TODO (in later versions): have all 3 Cliffwatch Inn spots instead of just 1\n",
    "        # TODO (in later versions): uncomment the commented ones below\n",
    "        self.purpleOccupied = False \n",
    "        self.buildingStates = { # True if the building is occupied\n",
    "            \"Purple\": False, # Blackstaff Tower (for Wizards)\n",
    "            \"Orange\": False, # Field of Triumph (for Fighters)\n",
    "            \"White\": False, # The Plinth (for Clerics)\n",
    "            \"Black\": False, # The Grinning Lion Tavern (for Rogues)\n",
    "            \"Gold\": False, # Aurora's Realms Shop (for Gold)\n",
    "            \"Quest\": False, # Cliffwatch Inn (for Quests)\n",
    "            # \"Castle\": False # Castle Waterdeep (for Castle + Intrigue)\n",
    "            # \"Builder\": False # Builder's Hall (for buying Buildings)\n",
    "            # \"Waterdeep1\": False # Waterdeep Harbor, first slot (for playing Intrigue)\n",
    "            # \"Waterdeep2\": False # Waterdeep Harbor, second slot (for playing Intrigue)\n",
    "            # \"Waterdeep3\": False # Waterdeep Harbor, third slot (for playing Intrigue)\n",
    "        }\n",
    "\n",
    "        # Deal quest cards to players\n",
    "        for _ in range(2):\n",
    "            for player in self.players:\n",
    "                player.receive(self.questStack.pop())\n",
    "\n",
    "        # TODO (later version): Deal intrigue cards to players\n",
    "\n",
    "        # Finally, start a new round (at this stage, just \n",
    "        # decrements roundsLeft and places VPs on\n",
    "        # buildings at builder's hall)\n",
    "        self.newRound()\n",
    "\n",
    "    def newRound(self) -> None:\n",
    "        '''Reset the board at the beginning of each round.'''\n",
    "        self.roundsLeft -= 1\n",
    "        # TODO (later version): put VPs on buildings at bulider's hall\n",
    "\n",
    "        # Reset all buildings\n",
    "        for building in self.buildingStates:\n",
    "            self.buildingStates[building] = False\n",
    "\n",
    "        # TODO (later version): put new resources on buildings that need them\n",
    "\n",
    "        # Get new agent at fifth round\n",
    "        if self.roundsLeft == 4:\n",
    "            for player in self.Players:\n",
    "                player.maxAgents += 1\n",
    "\n",
    "        # Return all agents\n",
    "        for player in self.Players:\n",
    "            player.agents = player.maxAgents\n",
    "\n",
    "    \n",
    "    def drawQuest(self) -> Quest:\n",
    "        '''\n",
    "        Draw the top quest from the quest stack,\n",
    "        removing it from the stack in the process.\n",
    "        \n",
    "        Returns: \n",
    "            The top quest from the quest stack.\n",
    "        '''\n",
    "        return self.questStack.pop()\n",
    "    \n",
    "    def printQuestStack(self) -> None:\n",
    "        '''Debug function for printing the quest stack.'''\n",
    "        print(\"Quest stack (top first):\")\n",
    "        questStackCopy = self.questStack.copy()\n",
    "        for i in range(len(self.questStack)):\n",
    "            print(i+1, questStackCopy.pop())\n",
    "\n",
    "    def displayGameState(self) -> None:\n",
    "        '''Display the state of the game.'''\n",
    "        # TODO: Implement this to display the state of the game\n",
    "        # Will start textually, should be graphically later\n",
    "        pass"
   ]
  },
  {
   "attachments": {},
   "cell_type": "markdown",
   "metadata": {},
   "source": [
    "Test the quest stack"
   ]
  },
  {
   "cell_type": "code",
   "execution_count": 79,
   "metadata": {},
   "outputs": [
    {
     "name": "stdout",
     "output_type": "stream",
     "text": [
      "Drew quest: Quest(name='Simple Commerce', type='Commerce', requirements={'Gold': 4}, rewards={'VP': 4})\n",
      "Quest stack (top first):\n",
      "1 Quest(name='Simple Arcana', type='Arcana', requirements={'Purple': 1}, rewards={'VP': 4})\n",
      "2 Quest(name='Simple Warfare', type='Warfare', requirements={'Orange': 2}, rewards={'VP': 4})\n",
      "3 Quest(name='Simple Skullduggery', type='Skullduggery', requirements={'Black': 2}, rewards={'VP': 4})\n",
      "4 Quest(name='Simple Piety', type='Piety', requirements={'White': 1}, rewards={'VP': 4})\n",
      "\n",
      "Drew quest: Quest(name='Simple Arcana', type='Arcana', requirements={'Purple': 1}, rewards={'VP': 4})\n",
      "Quest stack (top first):\n",
      "1 Quest(name='Simple Warfare', type='Warfare', requirements={'Orange': 2}, rewards={'VP': 4})\n",
      "2 Quest(name='Simple Skullduggery', type='Skullduggery', requirements={'Black': 2}, rewards={'VP': 4})\n",
      "3 Quest(name='Simple Piety', type='Piety', requirements={'White': 1}, rewards={'VP': 4})\n",
      "\n"
     ]
    }
   ],
   "source": [
    "gameState = GameState()\n",
    "\n",
    "for i in range(2):\n",
    "    print(\"Drew quest:\", gameState.drawQuest())\n",
    "    gameState.printQuestStack()\n",
    "    print()"
   ]
  },
  {
   "cell_type": "code",
   "execution_count": null,
   "metadata": {},
   "outputs": [],
   "source": []
  }
 ],
 "metadata": {
  "kernelspec": {
   "display_name": "np-scp",
   "language": "python",
   "name": "python3"
  },
  "language_info": {
   "codemirror_mode": {
    "name": "ipython",
    "version": 3
   },
   "file_extension": ".py",
   "mimetype": "text/x-python",
   "name": "python",
   "nbconvert_exporter": "python",
   "pygments_lexer": "ipython3",
   "version": "3.11.2"
  },
  "orig_nbformat": 4
 },
 "nbformat": 4,
 "nbformat_minor": 2
}
