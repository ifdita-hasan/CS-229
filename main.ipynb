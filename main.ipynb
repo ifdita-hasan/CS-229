{
 "cells": [
  {
   "attachments": {},
   "cell_type": "markdown",
   "metadata": {},
   "source": [
    "Define all quests in the game"
   ]
  },
  {
   "cell_type": "code",
   "execution_count": 14,
   "metadata": {},
   "outputs": [],
   "source": [
    "from collections import namedtuple\n",
    "Quest = namedtuple(\"Quest\", \"name type requirements rewards\")\n",
    "\n",
    "QUESTS = [\n",
    "    Quest(\"Orange Quest\", \"Warfare\", {\"orange\": 2}, {\"VP\": 4}),\n",
    "    Quest(\"Black Quest\", \"Skullduggery\", {\"orange\": 2}, {\"VP\": 4}),\n",
    "]"
   ]
  },
  {
   "cell_type": "code",
   "execution_count": 15,
   "metadata": {},
   "outputs": [
    {
     "name": "stdout",
     "output_type": "stream",
     "text": [
      "[Quest(name='Orange Quest', type='Warfare', requirements={'orange': 2}, rewards={'VP': 4}), Quest(name='Black Quest', type='Skullduggery', requirements={'orange': 2}, rewards={'VP': 4})]\n"
     ]
    }
   ],
   "source": [
    "print(QUESTS)"
   ]
  },
  {
   "attachments": {},
   "cell_type": "markdown",
   "metadata": {},
   "source": [
    "Demonstrate how to access quest data"
   ]
  },
  {
   "cell_type": "code",
   "execution_count": 17,
   "metadata": {},
   "outputs": [
    {
     "name": "stdout",
     "output_type": "stream",
     "text": [
      "Quest(name='Orange Quest', type='Warfare', requirements={'orange': 2}, rewards={'VP': 4})\n",
      "Warfare\n",
      "{'VP': 4}\n",
      "4\n"
     ]
    }
   ],
   "source": [
    "orangeQuest = QUESTS[0]\n",
    "print(orangeQuest)\n",
    "print(orangeQuest.type)\n",
    "print(orangeQuest.rewards)\n",
    "print(orangeQuest.rewards[\"VP\"])"
   ]
  },
  {
   "cell_type": "code",
   "execution_count": null,
   "metadata": {},
   "outputs": [],
   "source": []
  }
 ],
 "metadata": {
  "kernelspec": {
   "display_name": "np-scp",
   "language": "python",
   "name": "python3"
  },
  "language_info": {
   "codemirror_mode": {
    "name": "ipython",
    "version": 3
   },
   "file_extension": ".py",
   "mimetype": "text/x-python",
   "name": "python",
   "nbconvert_exporter": "python",
   "pygments_lexer": "ipython3",
   "version": "3.11.2"
  },
  "orig_nbformat": 4
 },
 "nbformat": 4,
 "nbformat_minor": 2
}
