{
 "cells": [
  {
   "cell_type": "code",
   "execution_count": 2,
   "metadata": {},
   "outputs": [],
   "source": [
    "QUESTS = [\n",
    "    {\"Name\": \"Orange Quest\",\n",
    "     \"Type\": \"Warfare\",\n",
    "     \"Requirements\": {\"orange\": 2},\n",
    "     \"Rewards\": {\"VP\": 4}},\n",
    "    {\"Name\": \"Black Quest\",\n",
    "     \"Type\": \"Skullduggery\",\n",
    "     \"Requirements\": {\"black\": 2},\n",
    "     \"Rewards\": {\"VP\": 4}},\n",
    "]"
   ]
  },
  {
   "cell_type": "code",
   "execution_count": 3,
   "metadata": {},
   "outputs": [],
   "source": [
    "from collections import namedtuple\n",
    "Quest = namedtuple(\"Quest\", \"name type requirements rewards\")\n",
    "\n",
    "QUESTS2 = [\n",
    "    Quest(\"Orange Quest\", \"Warfare\", {\"orange\": 2}, {\"VP\": 4}),\n",
    "    Quest(\"Black Quest\", \"Skullduggery\", {\"orange\": 2}, {\"VP\": 4})\n",
    "]"
   ]
  },
  {
   "cell_type": "code",
   "execution_count": 4,
   "metadata": {},
   "outputs": [
    {
     "name": "stdout",
     "output_type": "stream",
     "text": [
      "[{'Name': 'Orange Quest', 'Type': 'Warfare', 'Requirements': {'orange': 2}, 'Rewards': {'VP': 4}}, {'Name': 'Black Quest', 'Type': 'Skullduggery', 'Requirements': {'black': 2}, 'Rewards': {'VP': 4}}]\n"
     ]
    }
   ],
   "source": [
    "print(QUESTS)"
   ]
  },
  {
   "cell_type": "code",
   "execution_count": 5,
   "metadata": {},
   "outputs": [
    {
     "name": "stdout",
     "output_type": "stream",
     "text": [
      "[Quest(name='Orange Quest', type='Warfare', requirements={'orange': 2}, rewards={'VP': 4}), Quest(name='Black Quest', type='Skullduggery', requirements={'orange': 2}, rewards={'VP': 4})]\n"
     ]
    }
   ],
   "source": [
    "print(QUESTS2)"
   ]
  },
  {
   "cell_type": "code",
   "execution_count": null,
   "metadata": {},
   "outputs": [],
   "source": []
  }
 ],
 "metadata": {
  "kernelspec": {
   "display_name": "np-scp",
   "language": "python",
   "name": "python3"
  },
  "language_info": {
   "codemirror_mode": {
    "name": "ipython",
    "version": 3
   },
   "file_extension": ".py",
   "mimetype": "text/x-python",
   "name": "python",
   "nbconvert_exporter": "python",
   "pygments_lexer": "ipython3",
   "version": "3.11.2"
  },
  "orig_nbformat": 4
 },
 "nbformat": 4,
 "nbformat_minor": 2
}
