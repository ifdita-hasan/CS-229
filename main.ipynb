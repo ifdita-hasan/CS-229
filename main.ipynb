{
 "cells": [
  {
   "cell_type": "code",
   "execution_count": 2,
   "metadata": {},
   "outputs": [],
   "source": [
    "QUESTS = [\n",
    "    {\"Name\": \"Orange Quest\",\n",
    "     \"Type\": \"Warfare\",\n",
    "     \"Requirements\": {\"orange\": 2},\n",
    "     \"Rewards\": {\"VP\": 4}},\n",
    "    {\"Name\": \"Black Quest\",\n",
    "     \"Type\": \"Skullduggery\",\n",
    "     \"Requirements\": {\"black\": 2},\n",
    "     \"Rewards\": {\"VP\": 4}},\n",
    "]"
   ]
  },
  {
   "cell_type": "code",
   "execution_count": null,
   "metadata": {},
   "outputs": [],
   "source": []
  }
 ],
 "metadata": {
  "kernelspec": {
   "display_name": "np-scp",
   "language": "python",
   "name": "python3"
  },
  "language_info": {
   "codemirror_mode": {
    "name": "ipython",
    "version": 3
   },
   "file_extension": ".py",
   "mimetype": "text/x-python",
   "name": "python",
   "nbconvert_exporter": "python",
   "pygments_lexer": "ipython3",
   "version": "3.11.2"
  },
  "orig_nbformat": 4
 },
 "nbformat": 4,
 "nbformat_minor": 2
}
